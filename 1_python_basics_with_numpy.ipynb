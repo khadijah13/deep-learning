{
 "cells": [
  {
   "cell_type": "code",
   "execution_count": 1,
   "id": "68d4a092",
   "metadata": {},
   "outputs": [],
   "source": [
    "#Lets start by printing hello world\n",
    "\n",
    "Hello = \"Hello World\""
   ]
  },
  {
   "cell_type": "code",
   "execution_count": 3,
   "id": "e6cb64e3",
   "metadata": {},
   "outputs": [
    {
     "name": "stdout",
     "output_type": "stream",
     "text": [
      "start: Hello World\n"
     ]
    }
   ],
   "source": [
    "print(\"start: \" + Hello)"
   ]
  },
  {
   "cell_type": "code",
   "execution_count": 4,
   "id": "912b9585",
   "metadata": {},
   "outputs": [
    {
     "name": "stdout",
     "output_type": "stream",
     "text": [
      "[4 5 6]\n"
     ]
    }
   ],
   "source": [
    "#lets import numpy\n",
    "#In deep learning we use vectors and matrices\n",
    "#so its best to perform with numpy, so it cn help to return the same values\n",
    "import numpy as np\n",
    "\n",
    "firstArray = np.array([1, 2, 3])\n",
    "print (firstArray + 3)\n",
    "\n",
    "#You will see why we use numpy and not math"
   ]
  },
  {
   "cell_type": "code",
   "execution_count": 5,
   "id": "e60b8147",
   "metadata": {},
   "outputs": [],
   "source": [
    "#A sigmoid function sigmoid(x) can be calculated as s =  1/(1 + np.exp(-x))\n",
    "#Note we use np.exp(-x) and not math.exp(-x) because x will be a vector \n",
    "#math.exp(-x) will give an error whena vector is passed to it\n",
    "\n",
    "\n",
    "def sigmoid(x):\n",
    "    s =  1/(1 + np.exp(-x))\n",
    "    return s\n",
    "\n"
   ]
  },
  {
   "cell_type": "code",
   "execution_count": 6,
   "id": "df14c1da",
   "metadata": {},
   "outputs": [
    {
     "name": "stdout",
     "output_type": "stream",
     "text": [
      "sigmoid(testX) = [0.73105858 0.88079708 0.95257413]\n"
     ]
    }
   ],
   "source": [
    "testX = np.array([1, 2, 3])\n",
    "print(\"sigmoid(testX) = \" + str(sigmoid(testX)))"
   ]
  },
  {
   "cell_type": "code",
   "execution_count": 7,
   "id": "c9a92b27",
   "metadata": {},
   "outputs": [],
   "source": [
    "#To computegradients to optimixe lossfunction using backpropagation - sigmoid(x) * (1 - sigmoid(x))\n",
    "def sigmoidDerivative(x):\n",
    "    s = sigmoid(x)\n",
    "    sd = s * (1 - s)\n",
    "    \n",
    "    return sd"
   ]
  },
  {
   "cell_type": "code",
   "execution_count": 8,
   "id": "b7225d45",
   "metadata": {},
   "outputs": [
    {
     "name": "stdout",
     "output_type": "stream",
     "text": [
      "sigmoidDerivative(testX) = [0.19661193 0.10499359 0.04517666]\n"
     ]
    }
   ],
   "source": [
    "testX = np.array([1, 2, 3])\n",
    "print (\"sigmoidDerivative(testX) = \" + str(sigmoidDerivative(testX)))"
   ]
  },
  {
   "cell_type": "code",
   "execution_count": 9,
   "id": "cb1ead3b",
   "metadata": {},
   "outputs": [],
   "source": [
    "#Images ussually come in RGB format hence an image can come in a size (length,height,3)\n",
    "#The 3 is the number of channels Red(R), Green(G), and Blue(B) \n",
    "#When you read the image as the input of an algorithm - maybe to perform an operation\n",
    "#You convert/reshape it to a 1D vector (that is you unroll it) \n",
    "# so to unroll into a 1d vector you do theImage.reshape(height*width*3,1)\n",
    "#to get any of the dimension you do theImage.shape[column] - for length: theImage.shape[0]\n",
    "\n",
    "#you cna also reshape to one column using -1 - image.reshape(-1,1)\n",
    "def reshapeImage(image):\n",
    "    #imageVector = image.reshape(-1,1)\n",
    "    imageVector = image.reshape(image.shape[0] * image.shape[1] * image.shape[2],1)\n",
    "    # YOUR CODE ENDS HERE\n",
    "    \n",
    "    return imageVector"
   ]
  },
  {
   "cell_type": "code",
   "execution_count": 10,
   "id": "98d73f7d",
   "metadata": {},
   "outputs": [
    {
     "name": "stdout",
     "output_type": "stream",
     "text": [
      "reshapeImage(image) = [[0.778]\n",
      " [0.344]\n",
      " [0.779]\n",
      " [0.618]\n",
      " [0.533]\n",
      " [0.34 ]\n",
      " [0.999]\n",
      " [0.944]\n",
      " [0.89 ]\n",
      " [0.652]\n",
      " [0.211]\n",
      " [0.222]\n",
      " [0.587]\n",
      " [0.023]\n",
      " [0.096]\n",
      " [0.346]\n",
      " [0.543]\n",
      " [0.879]]\n"
     ]
    }
   ],
   "source": [
    "testImage = np.array([[[ 0.778,  0.344],\n",
    "                     [ 0.779,  0.618],\n",
    "                     [ 0.533 ,  0.340]],\n",
    "\n",
    "                   [[ 0.999,  0.944],\n",
    "                    [ 0.890,  0.652],\n",
    "                    [ 0.211,  0.222]],\n",
    "\n",
    "                   [[ 0.587,  0.023],\n",
    "                    [ 0.096,  0.346],\n",
    "                    [ 0.543,  0.879]]])\n",
    "\n",
    "print (\"reshapeImage(image) = \" + str(reshapeImage(testImage)))\n"
   ]
  },
  {
   "cell_type": "code",
   "execution_count": 11,
   "id": "b685acec",
   "metadata": {},
   "outputs": [],
   "source": [
    "#You can normalize a matrix by using np.linalg.norm \n",
    "#ord set the order 2 means 2-norm, axis - 1 for row and 0 for columnwise\n",
    "#note: do not use /= because we want to broadcasting\n",
    "def normalizeX(x):\n",
    "    x_norm = np.linalg.norm(x,ord = 2, axis = 1, keepdims=True)\n",
    "    x = x/x_norm\n",
    "    return x"
   ]
  },
  {
   "cell_type": "code",
   "execution_count": 13,
   "id": "d99762e9",
   "metadata": {},
   "outputs": [
    {
     "name": "stdout",
     "output_type": "stream",
     "text": [
      "normalizeX(x) = [[0.         0.5547002  0.83205029]\n",
      " [0.16903085 0.84515425 0.50709255]]\n"
     ]
    }
   ],
   "source": [
    "x = np.array([[0, 2, 3],\n",
    "              [1, 5, 3]])\n",
    "print(\"normalizeX(x) = \" + str(normalizeX(x)))"
   ]
  },
  {
   "cell_type": "code",
   "execution_count": 14,
   "id": "d079831f",
   "metadata": {},
   "outputs": [],
   "source": [
    "#Softmax\n",
    "def softmax(x):\n",
    "    x_exp = np.exp(x)\n",
    "    \n",
    "    x_sum = np.sum(x_exp,axis=1,keepdims=True)\n",
    "    \n",
    "    s = x_exp / x_sum\n",
    "   \n",
    "    return s"
   ]
  },
  {
   "cell_type": "code",
   "execution_count": 15,
   "id": "b05c7729",
   "metadata": {},
   "outputs": [
    {
     "name": "stdout",
     "output_type": "stream",
     "text": [
      "softmax(x) = [[9.90625200e-01 2.45551437e-03 6.67478009e-03 1.22252862e-04\n",
      "  1.22252862e-04]\n",
      " [9.97159112e-01 2.47171032e-03 1.23059211e-04 1.23059211e-04\n",
      "  1.23059211e-04]]\n"
     ]
    }
   ],
   "source": [
    "testX = np.array([[9, 3, 4, 0, 0],\n",
    "                [9, 3, 0, 0 ,0]])\n",
    "print(\"softmax(x) = \" + str(softmax(testX)))"
   ]
  },
  {
   "cell_type": "code",
   "execution_count": 16,
   "id": "497eb034",
   "metadata": {},
   "outputs": [
    {
     "name": "stdout",
     "output_type": "stream",
     "text": [
      "dot = 188\n",
      "outer = [[56 21  7 56  0 14  7 14  0  0 35 56 49  0 21]\n",
      " [24  9  3 24  0  6  3  6  0  0 15 24 21  0  9]\n",
      " [32 12  4 32  0  8  4  8  0  0 20 32 28  0 12]\n",
      " [ 8  3  1  8  0  2  1  2  0  0  5  8  7  0  3]\n",
      " [ 0  0  0  0  0  0  0  0  0  0  0  0  0  0  0]\n",
      " [24  9  3 24  0  6  3  6  0  0 15 24 21  0  9]\n",
      " [ 8  3  1  8  0  2  1  2  0  0  5  8  7  0  3]\n",
      " [ 0  0  0  0  0  0  0  0  0  0  0  0  0  0  0]\n",
      " [ 0  0  0  0  0  0  0  0  0  0  0  0  0  0  0]\n",
      " [ 0  0  0  0  0  0  0  0  0  0  0  0  0  0  0]\n",
      " [40 15  5 40  0 10  5 10  0  0 25 40 35  0 15]\n",
      " [48 18  6 48  0 12  6 12  0  0 30 48 42  0 18]\n",
      " [32 12  4 32  0  8  4  8  0  0 20 32 28  0 12]\n",
      " [ 0  0  0  0  0  0  0  0  0  0  0  0  0  0  0]\n",
      " [ 8  3  1  8  0  2  1  2  0  0  5  8  7  0  3]]\n",
      "elementwise multiplication = [56  9  4  8  0  6  1  0  0  0 25 48 28  0  3]\n"
     ]
    }
   ],
   "source": [
    "#VECTORIZATION\n",
    "x1 = [7, 3, 4, 1, 0, 3, 1, 0, 0, 0, 5, 6, 4, 0, 1]\n",
    "x2 = [8, 3, 1, 8, 0, 2, 1, 2, 0, 0, 5, 8, 7, 0, 3]\n",
    "\n",
    "\n",
    "dot = np.dot(x1,x2)\n",
    "print (\"dot = \" + str(dot))\n",
    "\n",
    "outer = np.outer(x1,x2)\n",
    "print (\"outer = \" + str(outer))\n",
    "\n",
    "mul = np.multiply(x1,x2)\n",
    "print (\"elementwise multiplication = \" + str(mul))"
   ]
  },
  {
   "cell_type": "code",
   "execution_count": 18,
   "id": "e06edcc9",
   "metadata": {},
   "outputs": [],
   "source": [
    "#To evaluate thepreformance of yourmodel and know how differnt your predictions are,\n",
    "#you can use L1 or L2 lss functions\n",
    "def L1(yhat, y):\n",
    "    loss = np.sum(abs(y-yhat))\n",
    "    return loss"
   ]
  },
  {
   "cell_type": "code",
   "execution_count": 19,
   "id": "f7663c3c",
   "metadata": {},
   "outputs": [
    {
     "name": "stdout",
     "output_type": "stream",
     "text": [
      "L1 = 1.4\n"
     ]
    }
   ],
   "source": [
    "yhat = np.array([.8, 0.6, 0.1, .8, .7])\n",
    "y = np.array([1, 0, 0, 1, 1])\n",
    "print(\"L1 = \" + str(L1(yhat, y)))\n"
   ]
  },
  {
   "cell_type": "code",
   "execution_count": 20,
   "id": "da8760ae",
   "metadata": {},
   "outputs": [],
   "source": [
    "def L2(yhat, y):\n",
    "    ydifference= y - yhat\n",
    "    loss = np.sum(np.dot(ydifference,ydifference))\n",
    "    \n",
    "    return loss"
   ]
  },
  {
   "cell_type": "code",
   "execution_count": 22,
   "id": "4750bcd7",
   "metadata": {},
   "outputs": [
    {
     "name": "stdout",
     "output_type": "stream",
     "text": [
      "L2 = 0.5399999999999999\n"
     ]
    }
   ],
   "source": [
    "yhat = np.array([.8, 0.6, 0.1, .8, .7])\n",
    "y = np.array([1, 0, 0, 1, 1])\n",
    "\n",
    "print(\"L2 = \" + str(L2(yhat, y)))\n"
   ]
  },
  {
   "cell_type": "code",
   "execution_count": null,
   "id": "b8d1cb34",
   "metadata": {},
   "outputs": [],
   "source": []
  }
 ],
 "metadata": {
  "kernelspec": {
   "display_name": "Python 3",
   "language": "python",
   "name": "python3"
  },
  "language_info": {
   "codemirror_mode": {
    "name": "ipython",
    "version": 3
   },
   "file_extension": ".py",
   "mimetype": "text/x-python",
   "name": "python",
   "nbconvert_exporter": "python",
   "pygments_lexer": "ipython3",
   "version": "3.8.8"
  }
 },
 "nbformat": 4,
 "nbformat_minor": 5
}
